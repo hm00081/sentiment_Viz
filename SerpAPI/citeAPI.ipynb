{
 "cells": [
  {
   "cell_type": "code",
   "execution_count": 6,
   "metadata": {},
   "outputs": [],
   "source": [
    "from serpapi import GoogleSearch\n",
    "\n",
    "params = {\n",
    "  \"engine\": \"google_scholar_cite\",\n",
    "  \"q\": \"Bs7O_Q7syuoJ\",\n",
    "  \"api_key\": \"3375ae8bae85068c7b65d136a499ea10d094621e730d5996a80648ba7ab3f3cf\"\n",
    "}\n",
    "\n",
    "search = GoogleSearch(params)\n",
    "results = search.get_dict()\n",
    "citations = results['citations']"
   ]
  },
  {
   "cell_type": "code",
   "execution_count": 7,
   "metadata": {},
   "outputs": [
    {
     "name": "stdout",
     "output_type": "stream",
     "text": [
      "[{'title': 'MLA', 'snippet': 'Cao, Nan, et al. \"Socialhelix: visual analysis of sentiment divergence in social media.\" Journal of visualization 18.2 (2015): 221-235.'}, {'title': 'APA', 'snippet': 'Cao, N., Lu, L., Lin, Y. R., Wang, F., & Wen, Z. (2015). Socialhelix: visual analysis of sentiment divergence in social media. Journal of visualization, 18(2), 221-235.'}, {'title': 'Chicago', 'snippet': 'Cao, Nan, Lu Lu, Yu-Ru Lin, Fei Wang, and Zhen Wen. \"Socialhelix: visual analysis of sentiment divergence in social media.\" Journal of visualization 18, no. 2 (2015): 221-235.'}, {'title': 'Harvard', 'snippet': 'Cao, N., Lu, L., Lin, Y.R., Wang, F. and Wen, Z., 2015. Socialhelix: visual analysis of sentiment divergence in social media. Journal of visualization, 18(2), pp.221-235.'}, {'title': 'Vancouver', 'snippet': 'Cao N, Lu L, Lin YR, Wang F, Wen Z. Socialhelix: visual analysis of sentiment divergence in social media. Journal of visualization. 2015 May 1;18(2):221-35.'}]\n"
     ]
    }
   ],
   "source": [
    "print(citations)"
   ]
  }
 ],
 "metadata": {
  "interpreter": {
   "hash": "ac59ebe37160ed0dfa835113d9b8498d9f09ceb179beaac4002f036b9467c963"
  },
  "kernelspec": {
   "display_name": "Python 3.9.5 64-bit",
   "language": "python",
   "name": "python3"
  },
  "language_info": {
   "codemirror_mode": {
    "name": "ipython",
    "version": 3
   },
   "file_extension": ".py",
   "mimetype": "text/x-python",
   "name": "python",
   "nbconvert_exporter": "python",
   "pygments_lexer": "ipython3",
   "version": "3.9.5"
  },
  "orig_nbformat": 4
 },
 "nbformat": 4,
 "nbformat_minor": 2
}
