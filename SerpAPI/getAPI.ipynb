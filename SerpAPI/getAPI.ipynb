{
 "cells": [
  {
   "cell_type": "code",
   "execution_count": 10,
   "metadata": {},
   "outputs": [],
   "source": [
    "from serpapi import GoogleSearch\n",
    "import json\n",
    "params = {\n",
    "  \"engine\": \"google_scholar\",\n",
    "  \"q\": \"socialhelix\",\n",
    "  \"api_key\": \"3375ae8bae85068c7b65d136a499ea10d094621e730d5996a80648ba7ab3f3cf\"\n",
    "}\n"
   ]
  },
  {
   "cell_type": "code",
   "execution_count": 7,
   "metadata": {},
   "outputs": [],
   "source": [
    "search = GoogleSearch(params)\n",
    "results = search.get_dict()\n",
    "organic_results = results['organic_results']"
   ]
  },
  {
   "cell_type": "code",
   "execution_count": 14,
   "metadata": {},
   "outputs": [
    {
     "name": "stdout",
     "output_type": "stream",
     "text": [
      "{'position': 0, 'title': 'Socialhelix: visual analysis of sentiment divergence in social media', 'result_id': 'Bs7O_Q7syuoJ', 'link': 'https://link.springer.com/content/pdf/10.1007/s12650-014-0246-x.pdf', 'snippet': \"Social media allow people to express and promote different opinions, on which people's sentiments to a subject often diverge when their opinions conflict. An intuitive visualization that unfolds the process of sentiment divergence from the rich and massive social media …\", 'publication_info': {'summary': 'N Cao, L Lu, YR Lin, F Wang, Z Wen - Journal of visualization, 2015 - Springer', 'authors': [{'name': 'N Cao', 'link': 'https://scholar.google.com/citations?user=5I0mFcsAAAAJ&hl=en&oi=sra', 'serpapi_scholar_link': 'https://serpapi.com/search.json?author_id=5I0mFcsAAAAJ&engine=google_scholar_author&hl=en', 'author_id': '5I0mFcsAAAAJ'}, {'name': 'YR Lin', 'link': 'https://scholar.google.com/citations?user=9EeqDSEAAAAJ&hl=en&oi=sra', 'serpapi_scholar_link': 'https://serpapi.com/search.json?author_id=9EeqDSEAAAAJ&engine=google_scholar_author&hl=en', 'author_id': '9EeqDSEAAAAJ'}, {'name': 'F Wang', 'link': 'https://scholar.google.com/citations?user=FjCbjDYAAAAJ&hl=en&oi=sra', 'serpapi_scholar_link': 'https://serpapi.com/search.json?author_id=FjCbjDYAAAAJ&engine=google_scholar_author&hl=en', 'author_id': 'FjCbjDYAAAAJ'}, {'name': 'Z Wen', 'link': 'https://scholar.google.com/citations?user=dkrDj6QAAAAJ&hl=en&oi=sra', 'serpapi_scholar_link': 'https://serpapi.com/search.json?author_id=dkrDj6QAAAAJ&engine=google_scholar_author&hl=en', 'author_id': 'dkrDj6QAAAAJ'}]}, 'resources': [{'title': 'nancao.org', 'file_format': 'PDF', 'link': 'http://www.nancao.org/pubs/cao_jov14_paper.pdf'}], 'inline_links': {'serpapi_cite_link': 'https://serpapi.com/search.json?engine=google_scholar_cite&q=Bs7O_Q7syuoJ', 'cited_by': {'total': 67, 'link': 'https://scholar.google.com/scholar?cites=16918594499302575622&as_sdt=80005&sciodt=0,11&hl=en', 'cites_id': '16918594499302575622', 'serpapi_scholar_link': 'https://serpapi.com/search.json?as_sdt=80005&cites=16918594499302575622&engine=google_scholar&hl=en'}, 'related_pages_link': 'https://scholar.google.com/scholar?q=related:Bs7O_Q7syuoJ:scholar.google.com/&scioq=socialhelix&hl=en&as_sdt=0,11', 'versions': {'total': 10, 'link': 'https://scholar.google.com/scholar?cluster=16918594499302575622&hl=en&as_sdt=0,11', 'cluster_id': '16918594499302575622', 'serpapi_scholar_link': 'https://serpapi.com/search.json?as_sdt=0%2C11&cluster=16918594499302575622&engine=google_scholar&hl=en'}}}\n"
     ]
    }
   ],
   "source": [
    "print(organic_results[0])"
   ]
  },
  {
   "cell_type": "code",
   "execution_count": 13,
   "metadata": {},
   "outputs": [
    {
     "ename": "TypeError",
     "evalue": "the JSON object must be str, bytes or bytearray, not list",
     "output_type": "error",
     "traceback": [
      "\u001b[1;31m---------------------------------------------------------------------------\u001b[0m",
      "\u001b[1;31mTypeError\u001b[0m                                 Traceback (most recent call last)",
      "\u001b[1;32m~\\AppData\\Local\\Temp/ipykernel_39484/1936492195.py\u001b[0m in \u001b[0;36m<module>\u001b[1;34m\u001b[0m\n\u001b[1;32m----> 1\u001b[1;33m \u001b[0minfo\u001b[0m \u001b[1;33m=\u001b[0m \u001b[0mjson\u001b[0m\u001b[1;33m.\u001b[0m\u001b[0mloads\u001b[0m\u001b[1;33m(\u001b[0m\u001b[0morganic_results\u001b[0m\u001b[1;33m)\u001b[0m\u001b[1;33m\u001b[0m\u001b[1;33m\u001b[0m\u001b[0m\n\u001b[0m",
      "\u001b[1;32mC:\\Program Files\\Python39\\lib\\json\\__init__.py\u001b[0m in \u001b[0;36mloads\u001b[1;34m(s, cls, object_hook, parse_float, parse_int, parse_constant, object_pairs_hook, **kw)\u001b[0m\n\u001b[0;32m    337\u001b[0m     \u001b[1;32melse\u001b[0m\u001b[1;33m:\u001b[0m\u001b[1;33m\u001b[0m\u001b[1;33m\u001b[0m\u001b[0m\n\u001b[0;32m    338\u001b[0m         \u001b[1;32mif\u001b[0m \u001b[1;32mnot\u001b[0m \u001b[0misinstance\u001b[0m\u001b[1;33m(\u001b[0m\u001b[0ms\u001b[0m\u001b[1;33m,\u001b[0m \u001b[1;33m(\u001b[0m\u001b[0mbytes\u001b[0m\u001b[1;33m,\u001b[0m \u001b[0mbytearray\u001b[0m\u001b[1;33m)\u001b[0m\u001b[1;33m)\u001b[0m\u001b[1;33m:\u001b[0m\u001b[1;33m\u001b[0m\u001b[1;33m\u001b[0m\u001b[0m\n\u001b[1;32m--> 339\u001b[1;33m             raise TypeError(f'the JSON object must be str, bytes or bytearray, '\n\u001b[0m\u001b[0;32m    340\u001b[0m                             f'not {s.__class__.__name__}')\n\u001b[0;32m    341\u001b[0m         \u001b[0ms\u001b[0m \u001b[1;33m=\u001b[0m \u001b[0ms\u001b[0m\u001b[1;33m.\u001b[0m\u001b[0mdecode\u001b[0m\u001b[1;33m(\u001b[0m\u001b[0mdetect_encoding\u001b[0m\u001b[1;33m(\u001b[0m\u001b[0ms\u001b[0m\u001b[1;33m)\u001b[0m\u001b[1;33m,\u001b[0m \u001b[1;34m'surrogatepass'\u001b[0m\u001b[1;33m)\u001b[0m\u001b[1;33m\u001b[0m\u001b[1;33m\u001b[0m\u001b[0m\n",
      "\u001b[1;31mTypeError\u001b[0m: the JSON object must be str, bytes or bytearray, not list"
     ]
    }
   ],
   "source": [
    "info = json.loads(organic_results)"
   ]
  }
 ],
 "metadata": {
  "interpreter": {
   "hash": "ac59ebe37160ed0dfa835113d9b8498d9f09ceb179beaac4002f036b9467c963"
  },
  "kernelspec": {
   "display_name": "Python 3.9.5 64-bit",
   "language": "python",
   "name": "python3"
  },
  "language_info": {
   "codemirror_mode": {
    "name": "ipython",
    "version": 3
   },
   "file_extension": ".py",
   "mimetype": "text/x-python",
   "name": "python",
   "nbconvert_exporter": "python",
   "pygments_lexer": "ipython3",
   "version": "3.9.5"
  },
  "orig_nbformat": 4
 },
 "nbformat": 4,
 "nbformat_minor": 2
}
